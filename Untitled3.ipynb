{
 "cells": [
  {
   "cell_type": "code",
   "execution_count": 7,
   "id": "b2877ebe",
   "metadata": {},
   "outputs": [
    {
     "name": "stdout",
     "output_type": "stream",
     "text": [
      "enter a start number 0-4:2\n",
      "enter a end number 5-9:7\n",
      "['red', 'yellow', 'orange', 'pink', 'black']\n"
     ]
    }
   ],
   "source": [
    "c= [\"voilet\",\"blue\",\"red\",\"yellow\",\"orange\",\"pink\",\"black\",\"white\",\"green\",\"purple\"]\n",
    "s=int(input(\"enter a start number 0-4:\"))\n",
    "e=int(input(\"enter a end number 5-9:\"))\n",
    "print(c[s:e])"
   ]
  },
  {
   "cell_type": "code",
   "execution_count": 9,
   "id": "10aaeeab",
   "metadata": {},
   "outputs": [
    {
     "name": "stdout",
     "output_type": "stream",
     "text": [
      "432\n",
      "756\n",
      "987\n",
      "654\n",
      "enter the number from the list:987\n",
      "987 is the position 2\n"
     ]
    }
   ],
   "source": [
    "a=[432,756,987,654]\n",
    "for i in a:\n",
    "    print(i)\n",
    "user=int(input(\"enter the number from the list:\"))\n",
    "if user in a:\n",
    "    print(user,\"is the position\",a.index(user))\n",
    "else:\n",
    "    print(\"that is not in the list\")\n",
    "    \n",
    "    "
   ]
  },
  {
   "cell_type": "code",
   "execution_count": null,
   "id": "a6f45cb0",
   "metadata": {},
   "outputs": [],
   "source": []
  },
  {
   "cell_type": "code",
   "execution_count": null,
   "id": "012e07a6",
   "metadata": {},
   "outputs": [],
   "source": [
    "|"
   ]
  }
 ],
 "metadata": {
  "kernelspec": {
   "display_name": "Python 3 (ipykernel)",
   "language": "python",
   "name": "python3"
  },
  "language_info": {
   "codemirror_mode": {
    "name": "ipython",
    "version": 3
   },
   "file_extension": ".py",
   "mimetype": "text/x-python",
   "name": "python",
   "nbconvert_exporter": "python",
   "pygments_lexer": "ipython3",
   "version": "3.10.9"
  }
 },
 "nbformat": 4,
 "nbformat_minor": 5
}
