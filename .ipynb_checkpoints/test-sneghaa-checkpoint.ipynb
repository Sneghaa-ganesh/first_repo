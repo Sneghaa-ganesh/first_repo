{
 "cells": [
  {
   "cell_type": "code",
   "execution_count": 75,
   "id": "b89250fc",
   "metadata": {},
   "outputs": [
    {
     "name": "stdout",
     "output_type": "stream",
     "text": [
      "enter how many number want to be entered:3\n",
      "enter element13\n",
      "enter element26\n",
      "enter element35\n",
      "[3, 6, 5]\n",
      "new list is : [5, 6, 3]\n"
     ]
    }
   ],
   "source": [
    "a=[]\n",
    "n=int(input(\"enter how many number want to be entered:\"))\n",
    "for i in range(0,n):\n",
    "    b=int(input(\"enter element\"+str(i+1)))\n",
    "    a.append(b)\n",
    "print(a)\n",
    "emp=a[0]\n",
    "a[0]=a[n-1]\n",
    "a[n-1]=emp\n",
    "print(\"new list is :\",a)"
   ]
  },
  {
   "cell_type": "code",
   "execution_count": 128,
   "id": "7669fe9d",
   "metadata": {},
   "outputs": [
    {
     "data": {
      "text/plain": [
       "[1, 5, 3, 4, 2]"
      ]
     },
     "execution_count": 128,
     "metadata": {},
     "output_type": "execute_result"
    }
   ],
   "source": [
    "a=[1,2,3,4,5]\n",
    "b=a.index(2)\n",
    "c=a.index(5)\n",
    "tem=a[b]\n",
    "a[b]=a[c]\n",
    "a[c]=tem\n",
    "a"
   ]
  },
  {
   "cell_type": "code",
   "execution_count": 21,
   "id": "b15fdbc5",
   "metadata": {},
   "outputs": [
    {
     "name": "stdout",
     "output_type": "stream",
     "text": [
      "enter the number:1\n",
      "['1']\n",
      "do you want to continue?yes\n",
      "enter the number:2\n",
      "['1', '2']\n",
      "do you want to continue?yes\n",
      "enter the number:3\n",
      "['1', '2', '3']\n",
      "do you want to continue?yes\n",
      "enter the number:4\n",
      "['1', '2', '3', '4']\n",
      "do you want to continue?yes\n",
      "enter the number:5\n",
      "['1', '2', '3', '4', '5']\n",
      "do you want to continue?no\n",
      "the length of the list is: 5\n"
     ]
    }
   ],
   "source": [
    "a=[]\n",
    "ch=\"yes\"\n",
    "while ch==\"yes\":\n",
    "    b=input(\"enter the number:\")\n",
    "    a.append(b)\n",
    "    print(a)\n",
    "    ch=input(\"do you want to continue?\").lower()\n",
    "print(\"the length of the list is:\",len(a))\n"
   ]
  },
  {
   "cell_type": "code",
   "execution_count": 28,
   "id": "dbf83013",
   "metadata": {},
   "outputs": [
    {
     "name": "stdout",
     "output_type": "stream",
     "text": [
      "enter the first number:23\n",
      "enter the second number:65\n",
      "second number is greater\n"
     ]
    }
   ],
   "source": [
    "n1=int(input(\"enter the first number:\"))\n",
    "n2=int(input(\"enter the second number:\"))\n",
    "if n1 > n2:\n",
    "    print(\"first number is greater\")\n",
    "elif n1 == n2:\n",
    "    print(\"both are equal\")\n",
    "elif n2 > n1:\n",
    "    print(\"second number is greater\")"
   ]
  },
  {
   "cell_type": "code",
   "execution_count": 30,
   "id": "c0250089",
   "metadata": {},
   "outputs": [
    {
     "name": "stdout",
     "output_type": "stream",
     "text": [
      "enter the first number:23\n",
      "enter the second number:987\n",
      "first number is smaller\n"
     ]
    }
   ],
   "source": [
    "n1=int(input(\"enter the first number:\"))\n",
    "n2=int(input(\"enter the second number:\"))\n",
    "if n1 > n2:\n",
    "    print(\"second number is smaller\")\n",
    "elif n1 == n2:\n",
    "    print(\"both are equal\")\n",
    "elif n2 > n1:\n",
    "    print(\"first number is smaller\")"
   ]
  },
  {
   "cell_type": "code",
   "execution_count": 34,
   "id": "69b28372",
   "metadata": {},
   "outputs": [
    {
     "name": "stdout",
     "output_type": "stream",
     "text": [
      "enter the number:2\n",
      "['2']\n",
      "do you want to continue?yes\n",
      "enter the number:98\n",
      "['2', '98']\n",
      "do you want to continue?yes\n",
      "enter the number:23\n",
      "['2', '98', '23']\n",
      "do you want to continue?yes\n",
      "enter the number:65\n",
      "['2', '98', '23', '65']\n",
      "do you want to continue?no\n",
      "enter the element to be checked:22\n",
      "do nt exist\n"
     ]
    }
   ],
   "source": [
    "a=[]\n",
    "ch=\"yes\"\n",
    "while ch==\"yes\":\n",
    "    b=input(\"enter the number:\")\n",
    "    a.append(b)\n",
    "    print(a)\n",
    "    ch=input(\"do you want to continue?\").lower()\n",
    "c=int(input(\"enter the element to be checked:\"))\n",
    "if c in a:\n",
    "    print(\"exist\")\n",
    "else:\n",
    "    print(\"do nt exist\")\n"
   ]
  },
  {
   "cell_type": "code",
   "execution_count": 36,
   "id": "d3a8c974",
   "metadata": {},
   "outputs": [
    {
     "name": "stdout",
     "output_type": "stream",
     "text": [
      "enter the element to be checked:2\n",
      "exist\n"
     ]
    }
   ],
   "source": [
    "a=[2,4,5,6]\n",
    "c=int(input(\"enter the element to be checked:\"))\n",
    "if c in a:\n",
    "    print(\"exist\")\n",
    "else:\n",
    "    print(\"do nt exist\")"
   ]
  },
  {
   "cell_type": "code",
   "execution_count": 41,
   "id": "93b10910",
   "metadata": {},
   "outputs": [
    {
     "name": "stdout",
     "output_type": "stream",
     "text": [
      "enter the number:23\n",
      "['23']\n",
      "do you want to continue?yes\n",
      "enter the number:44\n",
      "['23', '44']\n",
      "do you want to continue?yes\n",
      "enter the number:99\n",
      "['23', '44', '99']\n",
      "do you want to continue?yes\n",
      "enter the number:87\n",
      "['23', '44', '99', '87']\n",
      "do you want to continue?no\n",
      "['87', '99', '44', '23']\n"
     ]
    }
   ],
   "source": [
    "def rev(c):\n",
    "    a=c[::-1]\n",
    "    return a\n",
    "a=[]\n",
    "ch=\"yes\"\n",
    "while ch==\"yes\":\n",
    "    b=input(\"enter the number:\")\n",
    "    a.append(b)\n",
    "    print(a)\n",
    "    ch=input(\"do you want to continue?\").lower()\n",
    "print(rev(a))"
   ]
  },
  {
   "cell_type": "code",
   "execution_count": 44,
   "id": "13157794",
   "metadata": {},
   "outputs": [
    {
     "name": "stdout",
     "output_type": "stream",
     "text": [
      "enter the number:23\n",
      "['23']\n",
      "do you want to continue?yes\n",
      "enter the number:43\n",
      "['23', '43']\n",
      "do you want to continue?yes\n",
      "enter the number:76\n",
      "['23', '43', '76']\n",
      "do you want to continue?no\n",
      "the original list ['23', '43', '76']\n",
      "cloned list: ['23', '43', '76']\n"
     ]
    }
   ],
   "source": [
    "def cl(list):\n",
    "    list_e=list[:]\n",
    "    return list_e\n",
    "a=[]\n",
    "ch=\"yes\"\n",
    "while ch==\"yes\":\n",
    "    b=input(\"enter the number:\")\n",
    "    a.append(b)\n",
    "    print(a)\n",
    "    ch=input(\"do you want to continue?\").lower()\n",
    "print(\"the original list\",a)\n",
    "print(\"cloned list:\",cl(a))"
   ]
  },
  {
   "cell_type": "code",
   "execution_count": 55,
   "id": "23657946",
   "metadata": {},
   "outputs": [
    {
     "name": "stdout",
     "output_type": "stream",
     "text": [
      "enter the number:22\n",
      "['22']\n",
      "do you want to continue?yes\n",
      "enter the number:22\n",
      "['22', '22']\n",
      "do you want to continue?yes\n",
      "enter the number:33\n",
      "['22', '22', '33']\n",
      "do you want to continue?yes\n",
      "enter the number:22\n",
      "['22', '22', '33', '22']\n",
      "do you want to continue?no\n",
      "which element occurance?22\n",
      "22 has occurred 0  times\n"
     ]
    }
   ],
   "source": [
    "def occurance(a,c):\n",
    "    count=0\n",
    "    for c in a:\n",
    "        if(a==c):\n",
    "            count+=1\n",
    "    return count\n",
    "a=[]\n",
    "ch=\"yes\"\n",
    "while ch==\"yes\":\n",
    "    b=input(\"enter the number:\")\n",
    "    a.append(b)\n",
    "    print(a)\n",
    "    ch=input(\"do you want to continue?\").lower()\n",
    "c=int(input(\"which element occurance?\"))\n",
    "print( c,\"has occurred\",occurance(a,c),\" times\")"
   ]
  },
  {
   "cell_type": "code",
   "execution_count": 60,
   "id": "4ebae3c7",
   "metadata": {},
   "outputs": [
    {
     "name": "stdout",
     "output_type": "stream",
     "text": [
      "enter how many numbers you want to enter:3\n",
      "enter the number:543\n",
      "enter the number:456\n",
      "enter the number:777\n",
      "sum = 1776\n",
      "average number is: 592\n"
     ]
    }
   ],
   "source": [
    "n=int(input(\"enter how many numbers you want to enter:\"))\n",
    "a=[]\n",
    "for i in range(0,n):\n",
    "    b=int(input(\"enter the number:\"))\n",
    "    a.append(b)\n",
    "print(\"sum =\",sum(a))\n",
    "avg=sum(a)//n\n",
    "print(\"average number is:\",avg)"
   ]
  },
  {
   "cell_type": "code",
   "execution_count": 132,
   "id": "cfc280bd",
   "metadata": {},
   "outputs": [
    {
     "name": "stdout",
     "output_type": "stream",
     "text": [
      "14\n"
     ]
    }
   ],
   "source": [
    "a=[2,7,5]\n",
    "add=0\n",
    "for i in range(len(a)):\n",
    "    add+=a[i]\n",
    "print(add)    "
   ]
  },
  {
   "cell_type": "code",
   "execution_count": 76,
   "id": "737f6750",
   "metadata": {},
   "outputs": [
    {
     "name": "stdout",
     "output_type": "stream",
     "text": [
      "multipilication is: 70\n"
     ]
    }
   ],
   "source": [
    "def mul(a):\n",
    "    product=1\n",
    "    for i in a:\n",
    "        product=product*i\n",
    "    return product\n",
    "a=[2,7,5]\n",
    "print(\"multipilication is:\",mul(a))"
   ]
  },
  {
   "cell_type": "code",
   "execution_count": 82,
   "id": "45515cea",
   "metadata": {},
   "outputs": [
    {
     "name": "stdout",
     "output_type": "stream",
     "text": [
      "smallest element is: 2\n"
     ]
    }
   ],
   "source": [
    "list=[3,2,4,5,6]\n",
    "list.sort()\n",
    "print(\"smallest element is:\",list[0])"
   ]
  },
  {
   "cell_type": "code",
   "execution_count": 83,
   "id": "dbdfd1a6",
   "metadata": {},
   "outputs": [
    {
     "name": "stdout",
     "output_type": "stream",
     "text": [
      "smallest element is: 5\n"
     ]
    }
   ],
   "source": [
    "list=[2,3,4,5,1]\n",
    "list.sort()\n",
    "print(\"smallest element is:\",list[-1])"
   ]
  },
  {
   "cell_type": "code",
   "execution_count": 84,
   "id": "c5b9130a",
   "metadata": {},
   "outputs": [
    {
     "name": "stdout",
     "output_type": "stream",
     "text": [
      "smallest element is: 4\n"
     ]
    }
   ],
   "source": [
    "list=[2,3,4,5,1]\n",
    "list.sort()\n",
    "print(\"smallest element is:\",list[-2])"
   ]
  },
  {
   "cell_type": "code",
   "execution_count": 86,
   "id": "77fde6b5",
   "metadata": {},
   "outputs": [
    {
     "name": "stdout",
     "output_type": "stream",
     "text": [
      "2 4 6 8 "
     ]
    }
   ],
   "source": [
    "list=[2,3,4,5,6,7,8]\n",
    "for i in list:\n",
    "    if i%2==0:\n",
    "        print(i,end=\" \")"
   ]
  },
  {
   "cell_type": "code",
   "execution_count": 90,
   "id": "0333e938",
   "metadata": {},
   "outputs": [
    {
     "name": "stdout",
     "output_type": "stream",
     "text": [
      "3 5 7 "
     ]
    }
   ],
   "source": [
    "list=[2,3,4,5,6,7,8]\n",
    "for i in list:\n",
    "    if i%2!=0:\n",
    "        print(i,end=\" \")"
   ]
  },
  {
   "cell_type": "code",
   "execution_count": 92,
   "id": "4f38d3ab",
   "metadata": {},
   "outputs": [
    {
     "name": "stdout",
     "output_type": "stream",
     "text": [
      "4 6 8 10 12 14 16 "
     ]
    }
   ],
   "source": [
    "for even in range(4,17,2):\n",
    "    print(even,end=\" \")"
   ]
  },
  {
   "cell_type": "code",
   "execution_count": 101,
   "id": "92918796",
   "metadata": {},
   "outputs": [
    {
     "name": "stdout",
     "output_type": "stream",
     "text": [
      "5 7 9 11 13 15 17 19 "
     ]
    }
   ],
   "source": [
    "start,end=4,20\n",
    "for num in range(start,end+1):\n",
    "    if num %2!=0:\n",
    "        print(num,end=\" \")"
   ]
  },
  {
   "cell_type": "code",
   "execution_count": 102,
   "id": "3fcf7a42",
   "metadata": {},
   "outputs": [
    {
     "name": "stdout",
     "output_type": "stream",
     "text": [
      "no of even numbers: 7\n",
      "no of odd numbers: 8\n"
     ]
    }
   ],
   "source": [
    "list=[1,2,3,4,5,6,7,8,9,10,11,12,13,14,15]\n",
    "even_c,odd_c=0,0\n",
    "for num in list:\n",
    "    if num%2==0:\n",
    "        even_c+=1\n",
    "    else:\n",
    "        odd_c+=1\n",
    "print(\"no of even numbers:\",even_c)\n",
    "print(\"no of odd numbers:\",odd_c)"
   ]
  },
  {
   "cell_type": "code",
   "execution_count": 104,
   "id": "e6ed8bb5",
   "metadata": {},
   "outputs": [
    {
     "name": "stdout",
     "output_type": "stream",
     "text": [
      "11 12 "
     ]
    }
   ],
   "source": [
    "list=[11,-1,12,-98]\n",
    "num=0\n",
    "while (num<len(list)):\n",
    "    if list[num]>=0:\n",
    "        print(list[num],end=\" \")\n",
    "    num+=1"
   ]
  },
  {
   "cell_type": "code",
   "execution_count": 105,
   "id": "52c0ca77",
   "metadata": {},
   "outputs": [
    {
     "name": "stdout",
     "output_type": "stream",
     "text": [
      "-1 -98 "
     ]
    }
   ],
   "source": [
    "list=[11,-1,12,-98]\n",
    "num=0\n",
    "while (num<len(list)):\n",
    "    if list[num]< 0:\n",
    "        print(list[num],end=\" \")\n",
    "    num+=1"
   ]
  },
  {
   "cell_type": "code",
   "execution_count": 109,
   "id": "84272fc6",
   "metadata": {},
   "outputs": [
    {
     "name": "stdout",
     "output_type": "stream",
     "text": [
      "enter the start value:22\n",
      "enter the end value:88\n",
      "22 23 24 25 26 27 28 29 30 31 32 33 34 35 36 37 38 39 40 41 42 43 44 45 46 47 48 49 50 51 52 53 54 55 56 57 58 59 60 61 62 63 64 65 66 67 68 69 70 71 72 73 74 75 76 77 78 79 80 81 82 83 84 85 86 87 88 "
     ]
    }
   ],
   "source": [
    "s=int(input(\"enter the start value:\"))\n",
    "e=int(input(\"enter the end value:\"))\n",
    "for num in range(s,e+1):\n",
    "    if num>=0:\n",
    "        print(num,end=\" \")"
   ]
  },
  {
   "cell_type": "code",
   "execution_count": 114,
   "id": "c245b169",
   "metadata": {},
   "outputs": [
    {
     "name": "stdout",
     "output_type": "stream",
     "text": [
      "enter the start value:-99\n",
      "enter the end value:4\n",
      "-99 -98 -97 -96 -95 -94 -93 -92 -91 -90 -89 -88 -87 -86 -85 -84 -83 -82 -81 -80 -79 -78 -77 -76 -75 -74 -73 -72 -71 -70 -69 -68 -67 -66 -65 -64 -63 -62 -61 -60 -59 -58 -57 -56 -55 -54 -53 -52 -51 -50 -49 -48 -47 -46 -45 -44 -43 -42 -41 -40 -39 -38 -37 -36 -35 -34 -33 -32 -31 -30 -29 -28 -27 -26 -25 -24 -23 -22 -21 -20 -19 -18 -17 -16 -15 -14 -13 -12 -11 -10 -9 -8 -7 -6 -5 -4 -3 -2 -1 "
     ]
    }
   ],
   "source": [
    "st=int(input(\"enter the start value:\"))\n",
    "ed=int(input(\"enter the end value:\"))\n",
    "for num in range(st,ed+1):\n",
    "    if num<0:\n",
    "        print(num,end=\" \")"
   ]
  },
  {
   "cell_type": "code",
   "execution_count": 121,
   "id": "e44f6cd2",
   "metadata": {},
   "outputs": [
    {
     "name": "stdout",
     "output_type": "stream",
     "text": [
      "positive numbers: 2\n",
      "negative numbers: 3\n"
     ]
    }
   ],
   "source": [
    "list=[-1,-55,-65,8,9]\n",
    "pc,nc=0,0\n",
    "num=0\n",
    "while (num<len(list)):\n",
    "    if list[num]>=0:\n",
    "        pc+=1\n",
    "    else:\n",
    "        nc+=1\n",
    "    num +=1\n",
    "print(\"positive numbers:\",pc)\n",
    "print(\"negative numbers:\",nc)"
   ]
  },
  {
   "cell_type": "code",
   "execution_count": 122,
   "id": "0367fd5f",
   "metadata": {},
   "outputs": [
    {
     "name": "stdout",
     "output_type": "stream",
     "text": [
      "new list after removed multiple element [11, 12, 1, 4, 6]\n"
     ]
    }
   ],
   "source": [
    "list=[11,12,1,2,4,2,5,6]\n",
    "rem={2,5}\n",
    "list=[i for i in list if i not in rem]\n",
    "print(\"new list after removed multiple element\",list)\n",
    "\n",
    "        "
   ]
  },
  {
   "cell_type": "code",
   "execution_count": 124,
   "id": "082c9a2f",
   "metadata": {},
   "outputs": [
    {
     "name": "stdout",
     "output_type": "stream",
     "text": [
      "[3, 'a']\n"
     ]
    }
   ],
   "source": [
    "l=[(),(3),(\"a\")]\n",
    "l=[i for i in l if i]\n",
    "print(l)"
   ]
  },
  {
   "cell_type": "code",
   "execution_count": 126,
   "id": "57dd265b",
   "metadata": {},
   "outputs": [
    {
     "name": "stdout",
     "output_type": "stream",
     "text": [
      "[1, 2, 6, 9, 22]\n"
     ]
    }
   ],
   "source": [
    "list=[1,1,2,2,3,4,5,6,6,7,8,9,9,11,22,22]\n",
    "ul=[]\n",
    "dl=[]\n",
    "for i in list:\n",
    "    if i not in ul:\n",
    "        ul.append(i)\n",
    "    elif i not in dl:\n",
    "        dl.append(i)\n",
    "print(dl)"
   ]
  },
  {
   "cell_type": "code",
   "execution_count": null,
   "id": "0ee2a745",
   "metadata": {},
   "outputs": [],
   "source": []
  }
 ],
 "metadata": {
  "kernelspec": {
   "display_name": "Python 3 (ipykernel)",
   "language": "python",
   "name": "python3"
  },
  "language_info": {
   "codemirror_mode": {
    "name": "ipython",
    "version": 3
   },
   "file_extension": ".py",
   "mimetype": "text/x-python",
   "name": "python",
   "nbconvert_exporter": "python",
   "pygments_lexer": "ipython3",
   "version": "3.11.3"
  }
 },
 "nbformat": 4,
 "nbformat_minor": 5
}
