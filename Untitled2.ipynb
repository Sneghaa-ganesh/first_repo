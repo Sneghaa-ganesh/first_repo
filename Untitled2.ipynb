{
 "cells": [
  {
   "cell_type": "code",
   "execution_count": 20,
   "id": "bc488e77",
   "metadata": {},
   "outputs": [
    {
     "name": "stdout",
     "output_type": "stream",
     "text": [
      "Enter a number :46\n",
      "1 2 23 46 "
     ]
    }
   ],
   "source": [
    "a = int(input(\"Enter a number :\"))\n",
    "for b in range(1,a+1):\n",
    "    while a%b==0:\n",
    "        print(b, end=\" \")\n",
    "        break"
   ]
  },
  {
   "cell_type": "code",
   "execution_count": 34,
   "id": "87524d71",
   "metadata": {},
   "outputs": [
    {
     "name": "stdout",
     "output_type": "stream",
     "text": [
      "Enter a number :79\n",
      "79 it is a prime number\n"
     ]
    }
   ],
   "source": [
    "a = int(input (\"Enter a number :\"))\n",
    "if a>1:\n",
    "    for i in range(2,a):\n",
    "        if (a%i==0):\n",
    "            print (a,\"is not a prime number\")\n",
    "            break\n",
    "    else:\n",
    "        print(a,\"it is a prime number\")"
   ]
  },
  {
   "cell_type": "code",
   "execution_count": 17,
   "id": "7e410768",
   "metadata": {},
   "outputs": [
    {
     "name": "stdout",
     "output_type": "stream",
     "text": [
      "Enter a number :43\n",
      "2 3 5 7 11 13 17 19 23 29 31 37 41 "
     ]
    }
   ],
   "source": [
    "n =int(input(\"Enter a number :\"))\n",
    "for num in range(2,n):\n",
    "    if num>1:\n",
    "        for i in range(2,num):\n",
    "            if (num%i==0):\n",
    "                break\n",
    "        else:\n",
    "            print(num , end=\" \")"
   ]
  },
  {
   "cell_type": "code",
   "execution_count": 59,
   "id": "fd839418",
   "metadata": {},
   "outputs": [
    {
     "name": "stdout",
     "output_type": "stream",
     "text": [
      "count= 1\n",
      "1 ) 1\n",
      "1\n",
      "count= 2\n",
      "2 ) 3\n",
      "9\n",
      "count= 3\n",
      "3 ) 6\n",
      "36\n",
      "count= 4\n",
      "4 ) 10\n",
      "100\n",
      "count= 5\n",
      "5 ) 15\n",
      "225\n",
      "count= 6\n",
      "6 ) 21\n",
      "441\n"
     ]
    }
   ],
   "source": [
    "count = 0 \n",
    "i = 0 \n",
    "j=0\n",
    "while True:\n",
    "    if count>5:\n",
    "        break\n",
    "    count += 1\n",
    "    print(\"count=\",count)\n",
    "    i = i + count \n",
    "    j+=1\n",
    "    print(j,\")\",i)\n",
    "    print(i**2)"
   ]
  },
  {
   "cell_type": "code",
   "execution_count": 66,
   "id": "dc445067",
   "metadata": {},
   "outputs": [
    {
     "name": "stdout",
     "output_type": "stream",
     "text": [
      "Enter a number :29\n",
      "29 is a prime number and it is divisible by 29 and 1\n"
     ]
    }
   ],
   "source": [
    "n = int(input(\"Enter a number :\"))\n",
    "if n==1:\n",
    "    print(n ,\"is not a prime number and composite number\")\n",
    "elif n>1:\n",
    "    for i in range(2,n):\n",
    "        if n%i==0:\n",
    "            print(n ,\"is not a prime number and it is divisible by\", i)\n",
    "            break\n",
    "    else:\n",
    "        print(n ,\"is a prime number and it is divisible by\", n ,\"and\", 1)"
   ]
  },
  {
   "cell_type": "markdown",
   "id": "90157aec",
   "metadata": {},
   "source": []
  },
  {
   "cell_type": "code",
   "execution_count": 63,
   "id": "d5d9f274",
   "metadata": {},
   "outputs": [
    {
     "name": "stdout",
     "output_type": "stream",
     "text": [
      "enter a number:6789\n",
      "reversed number: 9876\n"
     ]
    }
   ],
   "source": [
    "n = int(input(\"enter a number:\"))\n",
    "r=0\n",
    "while n!=0:\n",
    "    a= n%10\n",
    "    r=r*10+a\n",
    "    n//=10\n",
    "print (\"reversed number:\", r)"
   ]
  },
  {
   "cell_type": "code",
   "execution_count": null,
   "id": "6a53796e",
   "metadata": {},
   "outputs": [],
   "source": [
    "n = int(input(\"enter the number:\"))\n",
    "for i in range(2,n):\n",
    "    if n%i==0:\n",
    "        print (i)\n",
    "        "
   ]
  },
  {
   "cell_type": "code",
   "execution_count": null,
   "id": "4cc60537",
   "metadata": {},
   "outputs": [],
   "source": []
  }
 ],
 "metadata": {
  "kernelspec": {
   "display_name": "Python 3 (ipykernel)",
   "language": "python",
   "name": "python3"
  },
  "language_info": {
   "codemirror_mode": {
    "name": "ipython",
    "version": 3
   },
   "file_extension": ".py",
   "mimetype": "text/x-python",
   "name": "python",
   "nbconvert_exporter": "python",
   "pygments_lexer": "ipython3",
   "version": "3.10.9"
  }
 },
 "nbformat": 4,
 "nbformat_minor": 5
}
