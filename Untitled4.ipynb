{
 "cells": [
  {
   "cell_type": "code",
   "execution_count": 6,
   "id": "b9f8f47d",
   "metadata": {},
   "outputs": [
    {
     "name": "stdout",
     "output_type": "stream",
     "text": [
      "2\n"
     ]
    }
   ],
   "source": [
    "if False:\n",
    "    print(\"1\")\n",
    "elif True:\n",
    "    print(\"2\")\n",
    "elif True:\n",
    "    print(\"3\")\n",
    "else:\n",
    "    print(\"4\")"
   ]
  },
  {
   "cell_type": "code",
   "execution_count": 3,
   "id": "1d646e20",
   "metadata": {},
   "outputs": [
    {
     "name": "stdout",
     "output_type": "stream",
     "text": [
      "enter the first number:4\n",
      "enter the second number:3\n",
      "enter the third number:3\n",
      "third number is smaller\n"
     ]
    }
   ],
   "source": [
    "a=int(input(\"enter the first number:\"))\n",
    "b=int(input(\"enter the second number:\"))\n",
    "c=int(input(\"enter the third number:\"))\n",
    "if a<b and a<c:\n",
    "    print(\"first number is smaller\")\n",
    "elif a==b and a==c and b==c:\n",
    "    print(\"all are equal\")\n",
    "elif b<a and b<c:\n",
    "    print(\"second number is smaller\")\n",
    "else:\n",
    "    print(\"third number is smaller\")"
   ]
  },
  {
   "cell_type": "code",
   "execution_count": 12,
   "id": "0f3eb7a9",
   "metadata": {},
   "outputs": [
    {
     "name": "stdout",
     "output_type": "stream",
     "text": [
      "enter the first number:5\n",
      "enter the second number:8\n",
      "enter the third number:9\n",
      "third number is greater\n"
     ]
    }
   ],
   "source": [
    "a=int(input(\"enter the first number:\"))\n",
    "b=int(input(\"enter the second number:\"))\n",
    "c=int(input(\"enter the third number:\"))\n",
    "if a>b and a>c:\n",
    "    print(\"first number is greater\")\n",
    "elif a==b and a==c:\n",
    "    print(\"all are equal\")\n",
    "elif b>a and b>c:\n",
    "    print(\"second number is greater\")\n",
    "else:\n",
    "    print(\"third number is greater\")"
   ]
  },
  {
   "cell_type": "code",
   "execution_count": 19,
   "id": "8113f77b",
   "metadata": {},
   "outputs": [
    {
     "name": "stdout",
     "output_type": "stream",
     "text": [
      "1.January\n",
      "2.February\n",
      "3.March\n",
      "4.April\n",
      "5.May\n",
      "6.June\n",
      "7.July\n",
      "8.August\n",
      "9.September\n",
      "10.October\n",
      "11.November\n",
      "12.December\n",
      "=2\n",
      " 28 days\n"
     ]
    }
   ],
   "source": [
    "month = int(input(\"1.January\\n2.February\\n3.March\\n4.April\\n5.May\\n6.June\\n7.July\\n8.August\\n9.September\\n10.October\\n11.November\\n12.December\\n=\"))\n",
    "if month == 1:\n",
    "    print(\" 31 days\")\n",
    "elif month == 2:\n",
    "    print(\" 28 days\")\n",
    "elif month == 3:\n",
    "    print(\" 31 days\")\n",
    "elif month == 4:\n",
    "    print(\"30 days\")\n",
    "elif month == 5:\n",
    "    print(\" 31 days\")\n",
    "elif month == 6:\n",
    "    print(\" 30 days\")\n",
    "elif month == 7:\n",
    "    print(\" 31 days\")\n",
    "elif month == 8:\n",
    "    print(\" 31 days\")\n",
    "elif month == 9:\n",
    "    print(\" 30 days\")\n",
    "elif month == 10:\n",
    "    print(\" 31 days\")\n",
    "elif month == 11:\n",
    "    print(\" 30 days\")\n",
    "elif month==12:\n",
    "    print(\" 31 days\")\n",
    "else:\n",
    "  print(\"invalied selection\")"
   ]
  },
  {
   "cell_type": "code",
   "execution_count": 18,
   "id": "00c4e7ce",
   "metadata": {},
   "outputs": [
    {
     "name": "stdout",
     "output_type": "stream",
     "text": [
      "enter a number form  1 to 12:11\n",
      "November\n"
     ]
    }
   ],
   "source": [
    "month = int(input(\"enter a number form  1 to 12:\"))\n",
    "if month == 1:\n",
    "    print(\"January\")\n",
    "elif month == 2:\n",
    "    print(\"February\")\n",
    "elif month == 3:\n",
    "    print(\"March\")\n",
    "elif month == 4:\n",
    "    print(\"April\")\n",
    "elif month == 5:\n",
    "    print(\"May\")\n",
    "elif month == 6:\n",
    "    print(\"June\")\n",
    "elif month == 7:\n",
    "    print(\"july\")\n",
    "elif month == 8:\n",
    "    print(\"August\")\n",
    "elif month == 9:\n",
    "    print(\"September\")\n",
    "elif month == 10:\n",
    "    print(\"October\")\n",
    "elif month == 11:\n",
    "    print(\"November\")\n",
    "elif month==12:\n",
    "    print(\"December\")\n",
    "else:\n",
    "    print(\"invalied number!\")"
   ]
  },
  {
   "cell_type": "code",
   "execution_count": 16,
   "id": "66b84fbd",
   "metadata": {},
   "outputs": [
    {
     "name": "stdout",
     "output_type": "stream",
     "text": [
      "Enter your rating :2222\n",
      "grand master\n"
     ]
    }
   ],
   "source": [
    "r = int(input(\"Enter your rating :\"))\n",
    "if r>=2100:\n",
    "    if r%2==0:\n",
    "        print(\"grand master\")\n",
    "    else:\n",
    "        print(\"GRAND MASTER\")\n",
    "elif r<2100 and r>=1900:\n",
    "    if r%2==0:\n",
    "        print(\"candidate master\")\n",
    "    else:\n",
    "        print(\"CANDIDATE MASTER\")\n",
    "elif r<1900 and r>=1600:\n",
    "    if r%2==0:\n",
    "        print(\"expert\")\n",
    "    else:\n",
    "        print(\"EXPERT\")\n",
    "elif r<1600 and r>=1400:\n",
    "    if r%2==0:\n",
    "        print(\"pupil\")\n",
    "    else:\n",
    "        print(\"PUPIL\")\n",
    "else: \n",
    "    if r%2==0:\n",
    "        print(\"newbie\")\n",
    "    else:\n",
    "        print(\"NEWBIE\")"
   ]
  },
  {
   "cell_type": "code",
   "execution_count": 23,
   "id": "b3344b15",
   "metadata": {},
   "outputs": [
    {
     "name": "stdout",
     "output_type": "stream",
     "text": [
      "2\n"
     ]
    }
   ],
   "source": [
    "a = 4\n",
    "b = -5\n",
    "if a > 0:\n",
    "    if b < 0:\n",
    "        a = a - 2 \n",
    "    elif a > 5:\n",
    "        a = a - 4\n",
    "    else:\n",
    "        a = a + 3\n",
    "else:\n",
    "    b = b + 2\n",
    "print(a)"
   ]
  },
  {
   "cell_type": "code",
   "execution_count": 11,
   "id": "3371df4b",
   "metadata": {},
   "outputs": [
    {
     "name": "stdout",
     "output_type": "stream",
     "text": [
      "enter your fav programing language:Python\n",
      "nice choice!\n"
     ]
    }
   ],
   "source": [
    "a=input(\"enter your fav programing language:\").lower()\n",
    "if a==\"python\" or a==\"java\":\n",
    "    print(\"nice choice!\")\n",
    "elif a==\"golang\":\n",
    "    print(\"you're a cool person i see...\")\n",
    "elif a==\"javascript\":\n",
    "    print(\"okay so you are our web developer! \")\n",
    "elif a==\"c++\":\n",
    "    print(\"too old school\")\n",
    "else:\n",
    "    print(\"i dont know that language\")"
   ]
  },
  {
   "cell_type": "code",
   "execution_count": 27,
   "id": "4a5a832c",
   "metadata": {},
   "outputs": [
    {
     "name": "stdout",
     "output_type": "stream",
     "text": [
      "enter the first number:567\n",
      "enter the second number:987\n",
      "first number is smaller\n"
     ]
    }
   ],
   "source": [
    "a=int(input(\"enter the first number:\"))\n",
    "b=int(input(\"enter the second number:\"))\n",
    "if a<b:\n",
    "    print(\"first number is smaller\")\n",
    "elif a==b :\n",
    "    print(\"all are equal\")\n",
    "elif b<a:\n",
    "    print(\"second number is smaller\")"
   ]
  },
  {
   "cell_type": "code",
   "execution_count": 30,
   "id": "523aedaa",
   "metadata": {},
   "outputs": [
    {
     "name": "stdout",
     "output_type": "stream",
     "text": [
      "hello\n",
      "world!\n"
     ]
    }
   ],
   "source": [
    "print(\"hello\\nworld!\")"
   ]
  },
  {
   "cell_type": "code",
   "execution_count": 17,
   "id": "4b2384ae",
   "metadata": {},
   "outputs": [
    {
     "name": "stdout",
     "output_type": "stream",
     "text": [
      "hello\n",
      " \n",
      "world!\n"
     ]
    }
   ],
   "source": [
    "print(\"hello\\n \\nworld!\")"
   ]
  },
  {
   "cell_type": "code",
   "execution_count": 32,
   "id": "6f96de4d",
   "metadata": {},
   "outputs": [
    {
     "name": "stdout",
     "output_type": "stream",
     "text": [
      "hello 40\n",
      "50world!\n"
     ]
    }
   ],
   "source": [
    "print(\"hello 40\\n50world!\")"
   ]
  },
  {
   "cell_type": "code",
   "execution_count": 48,
   "id": "fc95255f",
   "metadata": {},
   "outputs": [
    {
     "name": "stdout",
     "output_type": "stream",
     "text": [
      "1 3 5 7 9 "
     ]
    }
   ],
   "source": [
    "n=10\n",
    "for i in range (n):\n",
    "    if (i%2!=0):\n",
    "        print(i,end=\" \")"
   ]
  },
  {
   "cell_type": "code",
   "execution_count": 6,
   "id": "4b89d60e",
   "metadata": {
    "scrolled": true
   },
   "outputs": [
    {
     "name": "stdout",
     "output_type": "stream",
     "text": [
      "music certificate soldout:800000000\n",
      "platinum\n"
     ]
    }
   ],
   "source": [
    "\n"
   ]
  },
  {
   "cell_type": "code",
   "execution_count": 7,
   "id": "872b1cdd",
   "metadata": {},
   "outputs": [
    {
     "name": "stdout",
     "output_type": "stream",
     "text": [
      "enter the no:6\n",
      "enter the no:8\n",
      "enter the no:9\n",
      "scalene\n"
     ]
    }
   ],
   "source": [
    "a=int(input(\"enter the no:\"))\n",
    "b=int(input(\"enter the no:\"))\n",
    "c=int(input(\"enter the no:\"))\n",
    "if (a==b or a==c) and b==c:\n",
    "    print(\"equilateral\")\n",
    "elif a==b or b==c or c==a:\n",
    "    print(\"isosceles\")\n",
    "else:\n",
    "    print(\"scalene\")"
   ]
  },
  {
   "cell_type": "code",
   "execution_count": 10,
   "id": "b4f5e898",
   "metadata": {},
   "outputs": [
    {
     "name": "stdout",
     "output_type": "stream",
     "text": [
      "ML is fun\n",
      "I love DS\n"
     ]
    }
   ],
   "source": [
    "a = 1\n",
    "b= 0\n",
    "c= 1\n",
    "if (a and b):\n",
    "    print( \"Scaler is awesome\" )\n",
    "elif (a and c):\n",
    "    print(\"ML is fun\")\n",
    "if (a and b and c):\n",
    "    print( \"Python is amazing\")\n",
    "if (a or b or c):\n",
    "    print(\"I love DS\")"
   ]
  },
  {
   "cell_type": "code",
   "execution_count": 12,
   "id": "e8b873f7",
   "metadata": {},
   "outputs": [
    {
     "name": "stdout",
     "output_type": "stream",
     "text": [
      "3\n"
     ]
    }
   ],
   "source": [
    "a = 1\n",
    "b = 2\n",
    "c = 3\n",
    "if a > b:\n",
    "    if a > c:\n",
    "        print(a)\n",
    "    else:\n",
    "        print(c)\n",
    "else:\n",
    "    if b > c:\n",
    "        print(b)\n",
    "    else:\n",
    "        print(c)"
   ]
  },
  {
   "cell_type": "code",
   "execution_count": 16,
   "id": "30956380",
   "metadata": {},
   "outputs": [
    {
     "ename": "SyntaxError",
     "evalue": "invalid syntax (3068663205.py, line 5)",
     "output_type": "error",
     "traceback": [
      "\u001b[1;36m  Cell \u001b[1;32mIn[16], line 5\u001b[1;36m\u001b[0m\n\u001b[1;33m    else:\u001b[0m\n\u001b[1;37m    ^\u001b[0m\n\u001b[1;31mSyntaxError\u001b[0m\u001b[1;31m:\u001b[0m invalid syntax\n"
     ]
    }
   ],
   "source": [
    "x = 2\n",
    "if x==2:\n",
    "    x = 3\n",
    "x = 4\n",
    "else:\n",
    "    x = 5\n",
    "print(x)"
   ]
  },
  {
   "cell_type": "code",
   "execution_count": 2,
   "id": "f9a1f803",
   "metadata": {},
   "outputs": [
    {
     "name": "stdout",
     "output_type": "stream",
     "text": [
      "enter the year:2004\n",
      "1\n"
     ]
    }
   ],
   "source": [
    "a=int(input(\"enter the year:\"))\n",
    "if a%400==0:\n",
    "    print(1)\n",
    "elif a%4==0 and a%100!=0:\n",
    "    print(1)\n",
    "else:\n",
    "    print(0)"
   ]
  },
  {
   "cell_type": "code",
   "execution_count": 8,
   "id": "9892b528",
   "metadata": {},
   "outputs": [
    {
     "name": "stdout",
     "output_type": "stream",
     "text": [
      "enter a number:17\n",
      "enter a number:15\n",
      "32\n",
      "32\n"
     ]
    }
   ],
   "source": [
    "n=int(input(\"enter a number:\"))\n",
    "if 10< n<20:\n",
    "    m=int(input(\"enter a number:\"))\n",
    "    c=m+n\n",
    "    print(c)\n",
    "    if c==100:\n",
    "        print(\"thats large sum\")\n",
    "    else:\n",
    "        print(c)\n",
    "else:\n",
    "    print(-1)"
   ]
  },
  {
   "cell_type": "code",
   "execution_count": 9,
   "id": "28aea058",
   "metadata": {},
   "outputs": [
    {
     "name": "stdout",
     "output_type": "stream",
     "text": [
      "enter a number:6\n",
      "1\n"
     ]
    }
   ],
   "source": [
    "a=int(input(\"enter a number:\"))\n",
    "if a>0:\n",
    "    print(1)\n",
    "elif a==0:\n",
    "    print(0)\n",
    "else:\n",
    "    print(-1)"
   ]
  },
  {
   "cell_type": "code",
   "execution_count": 13,
   "id": "36e4ca64",
   "metadata": {},
   "outputs": [
    {
     "name": "stdout",
     "output_type": "stream",
     "text": [
      "1.January\n",
      "2.February\n",
      "3.March\n",
      "4.April\n",
      "5.May\n",
      "6.June\n",
      "7.July\n",
      "8.August\n",
      "9.September\n",
      "10.October\n",
      "11.November\n",
      "12.December\n",
      "=feb\n"
     ]
    },
    {
     "ename": "NameError",
     "evalue": "name 'isalnum' is not defined",
     "output_type": "error",
     "traceback": [
      "\u001b[1;31m---------------------------------------------------------------------------\u001b[0m",
      "\u001b[1;31mNameError\u001b[0m                                 Traceback (most recent call last)",
      "Cell \u001b[1;32mIn[13], line 2\u001b[0m\n\u001b[0;32m      1\u001b[0m month \u001b[38;5;241m=\u001b[39m (\u001b[38;5;28minput\u001b[39m(\u001b[38;5;124m\"\u001b[39m\u001b[38;5;124m1.January\u001b[39m\u001b[38;5;130;01m\\n\u001b[39;00m\u001b[38;5;124m2.February\u001b[39m\u001b[38;5;130;01m\\n\u001b[39;00m\u001b[38;5;124m3.March\u001b[39m\u001b[38;5;130;01m\\n\u001b[39;00m\u001b[38;5;124m4.April\u001b[39m\u001b[38;5;130;01m\\n\u001b[39;00m\u001b[38;5;124m5.May\u001b[39m\u001b[38;5;130;01m\\n\u001b[39;00m\u001b[38;5;124m6.June\u001b[39m\u001b[38;5;130;01m\\n\u001b[39;00m\u001b[38;5;124m7.July\u001b[39m\u001b[38;5;130;01m\\n\u001b[39;00m\u001b[38;5;124m8.August\u001b[39m\u001b[38;5;130;01m\\n\u001b[39;00m\u001b[38;5;124m9.September\u001b[39m\u001b[38;5;130;01m\\n\u001b[39;00m\u001b[38;5;124m10.October\u001b[39m\u001b[38;5;130;01m\\n\u001b[39;00m\u001b[38;5;124m11.November\u001b[39m\u001b[38;5;130;01m\\n\u001b[39;00m\u001b[38;5;124m12.December\u001b[39m\u001b[38;5;130;01m\\n\u001b[39;00m\u001b[38;5;124m=\u001b[39m\u001b[38;5;124m\"\u001b[39m))\u001b[38;5;241m.\u001b[39mlower\n\u001b[1;32m----> 2\u001b[0m \u001b[43misalnum\u001b[49m(month)\n\u001b[0;32m      3\u001b[0m \u001b[38;5;28;01mif\u001b[39;00m month \u001b[38;5;241m==\u001b[39m \u001b[38;5;241m1\u001b[39m:\n\u001b[0;32m      4\u001b[0m     \u001b[38;5;28mprint\u001b[39m(\u001b[38;5;124m\"\u001b[39m\u001b[38;5;124mJanuary has 31 days\u001b[39m\u001b[38;5;124m\"\u001b[39m)\n",
      "\u001b[1;31mNameError\u001b[0m: name 'isalnum' is not defined"
     ]
    }
   ],
   "source": []
  },
  {
   "cell_type": "code",
   "execution_count": null,
   "id": "c5d8fd4b",
   "metadata": {},
   "outputs": [],
   "source": []
  }
 ],
 "metadata": {
  "kernelspec": {
   "display_name": "Python 3 (ipykernel)",
   "language": "python",
   "name": "python3"
  },
  "language_info": {
   "codemirror_mode": {
    "name": "ipython",
    "version": 3
   },
   "file_extension": ".py",
   "mimetype": "text/x-python",
   "name": "python",
   "nbconvert_exporter": "python",
   "pygments_lexer": "ipython3",
   "version": "3.10.9"
  }
 },
 "nbformat": 4,
 "nbformat_minor": 5
}
