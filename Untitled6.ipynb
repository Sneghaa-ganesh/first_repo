{
 "cells": [
  {
   "cell_type": "code",
   "execution_count": 3,
   "id": "45f204a2",
   "metadata": {},
   "outputs": [
    {
     "name": "stdout",
     "output_type": "stream",
     "text": [
      "enter the numbers: 5\n",
      "enter the value of element:23\n",
      "enter the value of element:45\n",
      "enter the value of element:65\n",
      "enter the value of element:45\n",
      "enter the value of element:34\n",
      "the sum of even numbers = 34\n",
      "the sum of odd numbers= 178\n"
     ]
    }
   ],
   "source": [
    "number=int(input(\"enter the numbers: \"))\n",
    "num=[]\n",
    "es=0\n",
    "od=0\n",
    "for i in  range(number):\n",
    "    v=int(input(\"enter the value of element:\"))\n",
    "    num.append(v)\n",
    "for j in range(number):\n",
    "        if(num[j]%2==0):\n",
    "            es=es+num[j]\n",
    "        else:\n",
    "            od=od+num[j]\n",
    "print(\"the sum of even numbers =\",es)\n",
    "print(\"the sum of odd numbers=\",od)\n"
   ]
  },
  {
   "cell_type": "code",
   "execution_count": 2,
   "id": "4b5c2638",
   "metadata": {},
   "outputs": [
    {
     "name": "stdout",
     "output_type": "stream",
     "text": [
      "-6 -7 -8 -9 "
     ]
    }
   ],
   "source": [
    "for i in range(-6, -10, -1):\n",
    " print(i, end =\" \")"
   ]
  },
  {
   "cell_type": "code",
   "execution_count": 6,
   "id": "941a8013",
   "metadata": {},
   "outputs": [
    {
     "name": "stdout",
     "output_type": "stream",
     "text": [
      "enter the size4\n",
      "Enter the elts:4\n",
      "Enter the elts:2\n",
      "Enter the elts:3\n",
      "Enter the elts:4\n",
      "[4, 2, 3]\n",
      "4 : 2\n",
      "2 : 1\n",
      "3 : 1\n"
     ]
    }
   ],
   "source": [
    "a=int(input(\"enter the size\"))\n",
    "emp=[]\n",
    "b=[int(input(\"Enter the elts:\")) for i in range(a)]\n",
    "for i in b:\n",
    "    if i not in emp:\n",
    "        emp.append(i)\n",
    "print(emp)\n",
    "for j in emp:\n",
    "    print(j,\":\",b.count(j))"
   ]
  },
  {
   "cell_type": "markdown",
   "id": "1744404a",
   "metadata": {},
   "source": [
    "###### x = [1, 2]\n",
    "y = [2, 3]\n",
    "for i in x:\n",
    "     for j in y:\n",
    "            print(i, j, end= \" \")"
   ]
  },
  {
   "cell_type": "code",
   "execution_count": null,
   "id": "53e72f7b",
   "metadata": {},
   "outputs": [],
   "source": []
  }
 ],
 "metadata": {
  "kernelspec": {
   "display_name": "Python 3 (ipykernel)",
   "language": "python",
   "name": "python3"
  },
  "language_info": {
   "codemirror_mode": {
    "name": "ipython",
    "version": 3
   },
   "file_extension": ".py",
   "mimetype": "text/x-python",
   "name": "python",
   "nbconvert_exporter": "python",
   "pygments_lexer": "ipython3",
   "version": "3.10.9"
  }
 },
 "nbformat": 4,
 "nbformat_minor": 5
}
