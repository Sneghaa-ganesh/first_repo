{
 "cells": [
  {
   "cell_type": "code",
   "execution_count": 2,
   "id": "5e633aea",
   "metadata": {},
   "outputs": [
    {
     "name": "stdout",
     "output_type": "stream",
     "text": [
      "Enter your first name:sne\n",
      "Hello sne\n"
     ]
    }
   ],
   "source": [
    "Name = input(\"Enter your first name:\")\n",
    "print(\"Hello\" + \" \" + Name)"
   ]
  },
  {
   "cell_type": "code",
   "execution_count": 3,
   "id": "d71933e9",
   "metadata": {},
   "outputs": [
    {
     "name": "stdout",
     "output_type": "stream",
     "text": [
      "Enter your First Name: sneghaa\n",
      "Enter your Surname: ganesh\n",
      "Hello sneghaa ganesh\n"
     ]
    }
   ],
   "source": [
    "FirstName = input(\"Enter your First Name: \")\n",
    "Surname = input(\"Enter your Surname: \") \n",
    "print (\"Hello \"+FirstName+' '+Surname)"
   ]
  },
  {
   "cell_type": "code",
   "execution_count": 4,
   "id": "9d074d59",
   "metadata": {},
   "outputs": [
    {
     "name": "stdout",
     "output_type": "stream",
     "text": [
      "What do you call a bear with no teeth?\n",
      "A gummy bear!\n"
     ]
    }
   ],
   "source": [
    "print(\"What do you call a bear with no teeth?\\nA gummy bear!\")"
   ]
  },
  {
   "cell_type": "code",
   "execution_count": null,
   "id": "c0e10b7d",
   "metadata": {},
   "outputs": [],
   "source": [
    "print(\"enter two numbers:\")\n",
    "number1 = int(input(\"number1:\"))\n",
    "number2 = int(input(\"number2:\"))\n",
    "total = number1 + number2\n",
    "print(\"the total is:\")\n",
    "print(total)"
   ]
  },
  {
   "cell_type": "code",
   "execution_count": null,
   "id": "506b97b0",
   "metadata": {},
   "outputs": [],
   "source": []
  },
  {
   "cell_type": "code",
   "execution_count": null,
   "id": "de31abcf",
   "metadata": {},
   "outputs": [],
   "source": []
  }
 ],
 "metadata": {
  "kernelspec": {
   "display_name": "Python 3 (ipykernel)",
   "language": "python",
   "name": "python3"
  },
  "language_info": {
   "codemirror_mode": {
    "name": "ipython",
    "version": 3
   },
   "file_extension": ".py",
   "mimetype": "text/x-python",
   "name": "python",
   "nbconvert_exporter": "python",
   "pygments_lexer": "ipython3",
   "version": "3.10.9"
  }
 },
 "nbformat": 4,
 "nbformat_minor": 5
}
